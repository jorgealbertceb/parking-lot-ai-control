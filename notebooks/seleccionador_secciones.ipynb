{
 "cells": [
  {
   "cell_type": "code",
   "execution_count": 1,
   "id": "fd5d4204-933f-487b-8ec2-597db5984da3",
   "metadata": {},
   "outputs": [
    {
     "name": "stdout",
     "output_type": "stream",
     "text": [
      "\u001b[31m\u001b[1mrequirements:\u001b[0m Ultralytics requirement ['tkinter'] not found, attempting AutoUpdate...\n"
     ]
    },
    {
     "name": "stderr",
     "output_type": "stream",
     "text": [
      "\u001b[31mERROR: Could not find a version that satisfies the requirement tkinter (from versions: none)\u001b[0m\u001b[31m\n",
      "\u001b[0m\u001b[31mERROR: No matching distribution found for tkinter\u001b[0m\u001b[31m\n",
      "\u001b[0m"
     ]
    },
    {
     "name": "stdout",
     "output_type": "stream",
     "text": [
      "Retry 1/2 failed: Command 'pip install --no-cache-dir \"tkinter\" ' returned non-zero exit status 1.\n"
     ]
    },
    {
     "name": "stderr",
     "output_type": "stream",
     "text": [
      "\u001b[31mERROR: Could not find a version that satisfies the requirement tkinter (from versions: none)\u001b[0m\u001b[31m\n",
      "\u001b[0m\u001b[31mERROR: No matching distribution found for tkinter\u001b[0m\u001b[31m\n",
      "\u001b[0m"
     ]
    },
    {
     "name": "stdout",
     "output_type": "stream",
     "text": [
      "Retry 2/2 failed: Command 'pip install --no-cache-dir \"tkinter\" ' returned non-zero exit status 1.\n",
      "\u001b[31m\u001b[1mrequirements:\u001b[0m ❌ Command 'pip install --no-cache-dir \"tkinter\" ' returned non-zero exit status 1.\n"
     ]
    },
    {
     "name": "stderr",
     "output_type": "stream",
     "text": [
      "2024-11-26 12:25:19.488 python[68701:1723462] +[IMKClient subclass]: chose IMKClient_Legacy\n",
      "2024-11-26 12:25:19.488 python[68701:1723462] +[IMKInputSession subclass]: chose IMKInputSession_Legacy\n",
      "2024-11-26 12:25:23.878 python[68701:1723462] The class 'NSOpenPanel' overrides the method identifier.  This method is implemented by class 'NSWindow'\n",
      "2024-11-26 12:33:45.095 python[68701:1723462] Warning: Expected min height of view: (<NSButton: 0x7fdef094b0f0>) to be less than or equal to 30 but got a height of 32.000000. This error will be logged once per view in violation.\n"
     ]
    },
    {
     "data": {
      "text/plain": [
       "<__main__.Parking2 at 0x128affc90>"
      ]
     },
     "execution_count": 1,
     "metadata": {},
     "output_type": "execute_result"
    }
   ],
   "source": [
    "from ultralytics import solutions\n",
    "\n",
    "class Parking2(solutions.ParkingPtsSelection):\n",
    "    def upload_image(self):\n",
    "        \"\"\"Uploads and displays an image on the canvas, resizing it to fit within specified dimensions.\"\"\"\n",
    "        from PIL import Image, ImageTk  # scope because ImageTk requires tkinter package\n",
    "\n",
    "        self.image = Image.open(self.filedialog.askopenfilename(filetypes=[(\"Image Files\", \"*.png *.jpg *.jpeg\")]))\n",
    "        if not self.image:\n",
    "            return\n",
    "\n",
    "        self.imgw, self.imgh = self.image.size\n",
    "        aspect_ratio = self.imgw / self.imgh\n",
    "        canvas_width = (\n",
    "            min(self.canvas_max_width, self.imgw) if aspect_ratio > 1 else int(self.canvas_max_height * aspect_ratio)\n",
    "        )\n",
    "        canvas_height = (\n",
    "            min(self.canvas_max_height, self.imgh) if aspect_ratio <= 1 else int(canvas_width / aspect_ratio)\n",
    "        )\n",
    "\n",
    "        self.canvas.config(width=canvas_width, height=canvas_height)\n",
    "        self.canvas_image = ImageTk.PhotoImage(self.image.resize((canvas_width, canvas_height), Image.LANCZOS))\n",
    "        self.canvas.create_image(0, 0, anchor=self.tk.NW, image=self.canvas_image)\n",
    "        self.canvas.bind(\"<Button-1>\", self.on_canvas_click)\n",
    "\n",
    "        self.rg_data.clear(), self.current_box.clear()\n",
    "\n",
    "Parking2()"
   ]
  },
  {
   "cell_type": "code",
   "execution_count": null,
   "id": "de0fe915-8eab-49ce-8c06-8061d9593d17",
   "metadata": {},
   "outputs": [],
   "source": []
  }
 ],
 "metadata": {
  "kernelspec": {
   "display_name": "Python 3 (ipykernel)",
   "language": "python",
   "name": "python3"
  },
  "language_info": {
   "codemirror_mode": {
    "name": "ipython",
    "version": 3
   },
   "file_extension": ".py",
   "mimetype": "text/x-python",
   "name": "python",
   "nbconvert_exporter": "python",
   "pygments_lexer": "ipython3",
   "version": "3.11.7"
  }
 },
 "nbformat": 4,
 "nbformat_minor": 5
}
